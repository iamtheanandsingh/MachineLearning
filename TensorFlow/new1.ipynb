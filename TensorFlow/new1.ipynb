{
 "cells": [
  {
   "cell_type": "markdown",
   "source": [],
   "metadata": {}
  },
  {
   "cell_type": "code",
   "execution_count": 1,
   "source": [
    "import tensorflow as tf"
   ],
   "outputs": [],
   "metadata": {}
  },
  {
   "cell_type": "code",
   "execution_count": 2,
   "source": [
    "print(tf.version)"
   ],
   "outputs": [
    {
     "output_type": "stream",
     "name": "stdout",
     "text": [
      "<module 'tensorflow._api.v2.version' from 'C:\\\\ProgramData\\\\Miniconda\\\\lib\\\\site-packages\\\\tensorflow\\\\_api\\\\v2\\\\version\\\\__init__.py'>\n"
     ]
    }
   ],
   "metadata": {}
  },
  {
   "cell_type": "code",
   "execution_count": 3,
   "source": [
    "#Data types in A Tensor\r\n",
    "\r\n",
    "string = tf.Variable(\"This\", tf.string)\r\n",
    "number = tf.Variable(33, tf.int16)\r\n",
    "flt = tf.Variable(3.5, tf.float64)"
   ],
   "outputs": [],
   "metadata": {}
  },
  {
   "cell_type": "code",
   "execution_count": 4,
   "source": [
    "#Rank Of Tensors\r\n",
    "\r\n",
    "rank1_tensor = tf.Variable([\"test\"], tf.string)\r\n",
    "rank2_tensor = tf.Variable([[\"Hola\",\"hi\"],[\"ciao\", \"bye\"]], tf.string)"
   ],
   "outputs": [],
   "metadata": {}
  },
  {
   "cell_type": "code",
   "execution_count": 5,
   "source": [
    "print(\"Rank Of rank1_tensor: \", tf.rank(rank1_tensor))\r\n",
    "print(\"Rank Of rank2_tensor: \", tf.rank(rank2_tensor))"
   ],
   "outputs": [
    {
     "output_type": "stream",
     "name": "stdout",
     "text": [
      "Rank Of rank1_tensor:  tf.Tensor(1, shape=(), dtype=int32)\n",
      "Rank Of rank2_tensor:  tf.Tensor(2, shape=(), dtype=int32)\n"
     ]
    }
   ],
   "metadata": {}
  },
  {
   "cell_type": "code",
   "execution_count": 6,
   "source": [
    "rank2_tensor.shape"
   ],
   "outputs": [
    {
     "output_type": "execute_result",
     "data": {
      "text/plain": [
       "TensorShape([2, 2])"
      ]
     },
     "metadata": {},
     "execution_count": 6
    }
   ],
   "metadata": {}
  },
  {
   "cell_type": "code",
   "execution_count": 7,
   "source": [
    "#changing shape of a tensor\r\n",
    "\r\n",
    "tensor1 = tf.ones([1,2,3])\r\n",
    "tensor2 = tf.reshape(tensor1, [2,3,1])\r\n",
    "tensor3 = tf.reshape(tensor1, [3,-1])"
   ],
   "outputs": [],
   "metadata": {}
  },
  {
   "cell_type": "code",
   "execution_count": 8,
   "source": [
    "print(tensor1)\r\n",
    "print(tensor2, \"\\n\")\r\n",
    "print(tensor3, \"\\n\")"
   ],
   "outputs": [
    {
     "output_type": "stream",
     "name": "stdout",
     "text": [
      "tf.Tensor(\n",
      "[[[1. 1. 1.]\n",
      "  [1. 1. 1.]]], shape=(1, 2, 3), dtype=float32)\n",
      "tf.Tensor(\n",
      "[[[1.]\n",
      "  [1.]\n",
      "  [1.]]\n",
      "\n",
      " [[1.]\n",
      "  [1.]\n",
      "  [1.]]], shape=(2, 3, 1), dtype=float32) \n",
      "\n",
      "tf.Tensor(\n",
      "[[1. 1.]\n",
      " [1. 1.]\n",
      " [1. 1.]], shape=(3, 2), dtype=float32) \n",
      "\n"
     ]
    }
   ],
   "metadata": {}
  },
  {
   "cell_type": "code",
   "execution_count": null,
   "source": [],
   "outputs": [],
   "metadata": {}
  }
 ],
 "metadata": {
  "orig_nbformat": 4,
  "language_info": {
   "name": "python",
   "version": "3.9.1",
   "mimetype": "text/x-python",
   "codemirror_mode": {
    "name": "ipython",
    "version": 3
   },
   "pygments_lexer": "ipython3",
   "nbconvert_exporter": "python",
   "file_extension": ".py"
  },
  "kernelspec": {
   "name": "python3",
   "display_name": "Python 3.9.1 64-bit ('base': conda)"
  },
  "interpreter": {
   "hash": "7d2c2951dc40a4372c21c85253c83032b93c1aba3e6545cb56da73e1078edf46"
  }
 },
 "nbformat": 4,
 "nbformat_minor": 2
}